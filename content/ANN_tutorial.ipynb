{
  "cells": [
    {
      "cell_type": "markdown",
      "metadata": {
        "id": "9DZOlfTodng_"
      },
      "source": [
        "# Introduction to programming artificial neural networks\n",
        "#### Tutorial for Methods In Neuroscience at Dartmouth ([MIND](http://mindsummerschool.org/)) 2023\n",
        "By [Mark A. Thornton](http://markallenthornton.com/)\n",
        "\n",
        "This tutorial offers an introduction to programming your own customized artificial neural network (ANN) for the first time. It is based on the popular ANN programming framework [PyTorch](https://pytorch.org/). You will build up an ANN to perform regression, starting from a very simple network and working up step-by-step to a more complex one.\n",
        "\n",
        "This notebook focuses on the implementation of ANNs. If you're interested in a complementary conceptual introduction to ANNs, their potential uses in social neuroscience, and their limitations, please consider [my preprint](https://psyarxiv.com/fr4cb) with [Beau Sievers](http://beausievers.com/).\n",
        "\n",
        "The figure below, created by [Lindsey Tepfer](https://pbs.dartmouth.edu/people/lindsey-j-tepfer) for the aforementioned preprint, illustrates the (A) general structure of ANNs, (B) the internal structure of individual units, which approximate generalized linear models, and (C) the training process using stochastic gradient descent via backpropagation. The terminology in this figure will reappear throughout the tutorial.\n",
        "\n",
        "![](https://mysocialbrain.org/misc/data/ann_tutorial/Fig1_DS_hires_top.png)\n"
      ]
    },
    {
      "cell_type": "markdown",
      "metadata": {
        "id": "jWqksu8YQCXj"
      },
      "source": [
        "## Setup\n",
        "This section includes the import statements for the packages/functions we'll need here, detection of the available hardware for ANN fitting, and code to simulate the artificial data we'll be using."
      ]
    },
    {
      "cell_type": "markdown",
      "metadata": {
        "id": "JM8eq9V-QG4a"
      },
      "source": [
        "### Import packages"
      ]
    },
    {
      "cell_type": "code",
      "execution_count": 4,
      "metadata": {
        "id": "o_XidOKtfJUu"
      },
      "outputs": [],
      "source": [
        "import pandas as pd\n",
        "import numpy as np\n",
        "import matplotlib.pyplot as plt\n",
        "from tqdm import tqdm\n",
        "import torch\n",
        "from torch import nn\n",
        "from torch.utils.data import DataLoader, TensorDataset\n",
        "import torch.nn.functional as F\n",
        "import statsmodels.api as sm\n",
        "from sklearn.metrics import r2_score, mean_squared_error\n",
        "%matplotlib inline"
      ]
    },
    {
      "cell_type": "markdown",
      "metadata": {
        "id": "XUJmvHi8QQ1m"
      },
      "source": [
        "### Detect and set hardware device\n",
        "Depending on where you run your notebook, you may be able to take advantage of different hardware. If a cuda-enable graphics card is available, this will be preferred. Mac chipsets (MPS) and traditional processors (CPU) are the fallback options. On Colab, you may want to change your runtime type to take advantage of the GPU runtimes they offer."
      ]
    },
    {
      "cell_type": "code",
      "execution_count": 5,
      "metadata": {
        "colab": {
          "base_uri": "https://localhost:8080/"
        },
        "id": "Y6GMlwnOG6jc",
        "outputId": "21608635-b09f-479b-e88f-c268e4550406"
      },
      "outputs": [
        {
          "output_type": "stream",
          "name": "stdout",
          "text": [
            "Using cuda device\n"
          ]
        }
      ],
      "source": [
        "device = (\n",
        "    \"cuda\"\n",
        "    if torch.cuda.is_available()\n",
        "    else \"mps\"\n",
        "    if torch.backends.mps.is_available()\n",
        "    else \"cpu\"\n",
        ")\n",
        "print(f\"Using {device} device\")"
      ]
    },
    {
      "cell_type": "markdown",
      "metadata": {
        "id": "kH3b-GAhRj2W"
      },
      "source": [
        "### Simulate data"
      ]
    },
    {
      "cell_type": "code",
      "execution_count": 6,
      "metadata": {
        "id": "D5NfwioWR_hM"
      },
      "outputs": [],
      "source": [
        "# set random seeds\n",
        "torch.manual_seed(0) # pytorch's random seed\n",
        "np.random.seed(0) # numpy's random seed"
      ]
    },
    {
      "cell_type": "code",
      "execution_count": 7,
      "metadata": {
        "id": "z1xOFx7CQZGW"
      },
      "outputs": [],
      "source": [
        "# linear relationship\n",
        "\n",
        "# set sample sizes\n",
        "ntrain = 100000 # training\n",
        "ntest = 1000    # testing\n",
        "nval = 10000    # validation\n",
        "\n",
        "# the x-variable is drawn from a standard normal distribution\n",
        "x_train = np.random.normal(0,1,ntrain)\n",
        "x_test = np.random.normal(0,1,ntest)\n",
        "x_val = np.random.normal(0,1,nval)\n",
        "\n",
        "# this y-variable is a linear function of the x-variable\n",
        "# a bit a Gaussian noise is added, as well as a constant slope and intercept\n",
        "y_lin_train = x_train*1.5 + np.random.normal(0,.1,ntrain) + 1\n",
        "y_lin_test = x_test*1.5 + np.random.normal(0,.1,ntest) + 1"
      ]
    },
    {
      "cell_type": "code",
      "execution_count": 8,
      "metadata": {
        "id": "QLrB7DrHRn2r"
      },
      "outputs": [],
      "source": [
        "# nonlinear relationship\n",
        "# the second y-variable is a quadratic function of the x-variable\n",
        "y_non_train = np.power(x_train,2) + np.random.normal(0,.1,ntrain)\n",
        "y_non_test = np.power(x_test,2) + np.random.normal(0,.1,ntest)\n",
        "y_non_val = np.power(x_val,2) + np.random.normal(0,.1,nval)"
      ]
    },
    {
      "cell_type": "code",
      "execution_count": 9,
      "metadata": {
        "id": "h3Abtp0zoATl"
      },
      "outputs": [],
      "source": [
        "# reshape so as to avoid confusing pytorch with 1d data\n",
        "x_train.shape = (ntrain, 1)\n",
        "y_lin_train.shape = (ntrain, 1)\n",
        "y_non_train.shape = (ntrain, 1)\n",
        "x_test.shape = (ntest, 1)\n",
        "y_lin_test.shape = (ntest, 1)\n",
        "y_non_test.shape = (ntest, 1)\n",
        "x_val.shape = (nval, 1)\n",
        "y_non_val.shape = (nval, 1)"
      ]
    },
    {
      "cell_type": "code",
      "execution_count": 10,
      "metadata": {
        "colab": {
          "base_uri": "https://localhost:8080/",
          "height": 449
        },
        "id": "rhoZb8csRqf6",
        "outputId": "cb0ee698-48ad-43ba-d4b9-27e43ccae019"
      },
      "outputs": [
        {
          "output_type": "display_data",
          "data": {
            "text/plain": [
              "<Figure size 640x480 with 1 Axes>"
            ],
            "image/png": "[encoded data removed]"
          },
          "metadata": {}
        }
      ],
      "source": [
        "# plot simulated (training) data\n",
        "plt.scatter(x_train,y_lin_train,s=.1)\n",
        "plt.scatter(x_train,y_non_train,s=.1)\n",
        "plt.xlabel(\"x\");\n",
        "plt.ylabel(\"y\");"
      ]
    },
    {
      "cell_type": "markdown",
      "metadata": {
        "id": "2fLBHHB4gmWm"
      },
      "source": [
        "## Simple linear regression\n",
        "We'll begin by showing how ANNs can approximate simple (OLS) regression. In fact, ANNs can approximate nearly all of the modeling techniques in the typical psych/neuro toolkit, ranging from this simple case up through things like factor analysis and beyond."
      ]
    },
    {
      "cell_type": "code",
      "execution_count": 11,
      "metadata": {
        "id": "viV5cWrggrLA"
      },
      "outputs": [],
      "source": [
        "# define model with a single linear unit which takes one input\n",
        "model1 = nn.Linear(1, 1)"
      ]
    },
    {
      "cell_type": "code",
      "execution_count": 12,
      "metadata": {
        "id": "bOb0agjZhB_6"
      },
      "outputs": [],
      "source": [
        "# define loss (error) function as mean square error\n",
        "# this is similar to ordinary least squares regression\n",
        "loss = nn.MSELoss()"
      ]
    },
    {
      "cell_type": "code",
      "execution_count": 13,
      "metadata": {
        "id": "lZeIGQUBhV3D"
      },
      "outputs": [],
      "source": [
        "# define optimizers as stochastic gradient descent (SGD)\n",
        "# feed in parameters of the model to be optimized and the learning rate\n",
        "# (in most cases, we would probably use a much lower learning rate)\n",
        "optimizer = torch.optim.SGD(model1.parameters(),lr=.5)"
      ]
    },
    {
      "cell_type": "markdown",
      "metadata": {
        "id": "5PtHdXjUoIIx"
      },
      "source": [
        "Now let's train the model:"
      ]
    },
    {
      "cell_type": "code",
      "execution_count": 14,
      "metadata": {
        "colab": {
          "base_uri": "https://localhost:8080/"
        },
        "id": "pAp7eHfAhuaW",
        "outputId": "3d611e0f-fc40-4032-f319-4bfb35204103"
      },
      "outputs": [
        {
          "output_type": "stream",
          "name": "stdout",
          "text": [
            "Epoch [1/10], Loss: 2.4881\n",
            "Epoch [2/10], Loss: 0.0100\n",
            "Epoch [3/10], Loss: 0.0100\n",
            "Epoch [4/10], Loss: 0.0100\n",
            "Epoch [5/10], Loss: 0.0100\n",
            "Epoch [6/10], Loss: 0.0100\n",
            "Epoch [7/10], Loss: 0.0100\n",
            "Epoch [8/10], Loss: 0.0100\n",
            "Epoch [9/10], Loss: 0.0100\n",
            "Epoch [10/10], Loss: 0.0100\n"
          ]
        }
      ],
      "source": [
        "nepoch = 10 # epochs = how many times the model sees the dataset\n",
        "# note that we're not actually using the GPU yet - see the next example for that\n",
        "for epoch in range(nepoch):\n",
        "    # convert inputs and targets to torch tensors\n",
        "    inputs = torch.from_numpy(np.float32(x_train))\n",
        "    targets = torch.from_numpy(np.float32(y_lin_train))\n",
        "\n",
        "    # propagate activity forward through network to make prediction\n",
        "    outputs = model1(inputs)\n",
        "\n",
        "    # compute loss (error) of predictions\n",
        "    curloss = loss(outputs, targets)\n",
        "\n",
        "    # backpropagate errors to change weights and biases via SGD\n",
        "    optimizer.zero_grad()\n",
        "    curloss.backward()\n",
        "    optimizer.step()\n",
        "\n",
        "    # print\n",
        "    if (epoch+1) % 1 == 0:\n",
        "        print ('Epoch [{}/{}], Loss: {:.4f}'.format(epoch+1, nepoch, curloss.item()))\n"
      ]
    },
    {
      "cell_type": "markdown",
      "metadata": {
        "id": "8QC_9JNbnjIQ"
      },
      "source": [
        "Now that we've trained the model, let's take a look at its out-of-sample performance on our simulated test set. To do this, we'll make predictions for the test set, and compare them to the actual test values using R<sup>2</sup> and RMSE, as well as plotting them against one another. As you'll see, the R<sup>2</sup> is near perfect, and the RMSE is just about equal to the SD of the noise we injected when simulating the data. In other words, the model is performing as well as it could."
      ]
    },
    {
      "cell_type": "code",
      "execution_count": 15,
      "metadata": {
        "colab": {
          "base_uri": "https://localhost:8080/",
          "height": 484
        },
        "id": "LQWGAHURmE9P",
        "outputId": "e45dc2b5-b493-4354-d23a-895d3896da5d"
      },
      "outputs": [
        {
          "output_type": "stream",
          "name": "stdout",
          "text": [
            "0.9957496739688491\n",
            "0.09758071680706164\n"
          ]
        },
        {
          "output_type": "display_data",
          "data": {
            "text/plain": [
              "<Figure size 640x480 with 1 Axes>"
            ],
            "image/png": "[encoded data removed]"
          },
          "metadata": {}
        }
      ],
      "source": [
        "# plot the relationship between predicted and actual test values\n",
        "ypred = model1(torch.from_numpy(np.float32(x_test))).detach().numpy()\n",
        "plt.scatter(ypred,y_lin_test,s=.1)\n",
        "plt.xlabel(\"Predictions\");\n",
        "plt.ylabel(\"Actual values\");\n",
        "\n",
        "# print out performance metrics\n",
        "print(r2_score(y_lin_test,ypred))\n",
        "print(np.sqrt(mean_squared_error(y_lin_test,ypred)))"
      ]
    },
    {
      "cell_type": "markdown",
      "metadata": {
        "id": "OFrpjeWzodA3"
      },
      "source": [
        "Now let's compare the results to an ordinary least squares (OLS) regression - the more traditional way to model this sort of data in psychology and neuroscience. First, we'll print out the weight and bias of the sole unit in the neural network, and then fit and print the equivalent parameters (slope and intercept) of the OLS regression, using the statsmodels package."
      ]
    },
    {
      "cell_type": "code",
      "execution_count": 16,
      "metadata": {
        "colab": {
          "base_uri": "https://localhost:8080/"
        },
        "id": "_n_TKrIcivpL",
        "outputId": "2e83945c-2efc-4375-85b6-b02a09e68863"
      },
      "outputs": [
        {
          "output_type": "stream",
          "name": "stdout",
          "text": [
            "weight tensor([[1.5001]])\n",
            "bias tensor([1.0004])\n"
          ]
        }
      ],
      "source": [
        "# print out weight and bias parameters\n",
        "for name, param in model1.named_parameters():\n",
        "    if param.requires_grad:\n",
        "        print(name, param.data)"
      ]
    },
    {
      "cell_type": "code",
      "execution_count": 17,
      "metadata": {
        "colab": {
          "base_uri": "https://localhost:8080/"
        },
        "id": "IT5vuyDPm_Ls",
        "outputId": "f8a09023-0e9d-476f-ae18-6eb52178ceb5"
      },
      "outputs": [
        {
          "output_type": "stream",
          "name": "stdout",
          "text": [
            "                            OLS Regression Results                            \n",
            "==============================================================================\n",
            "Dep. Variable:                      y   R-squared:                       0.996\n",
            "Model:                            OLS   Adj. R-squared:                  0.996\n",
            "Method:                 Least Squares   F-statistic:                 2.242e+07\n",
            "Date:                Sun, 29 Jun 2025   Prob (F-statistic):               0.00\n",
            "Time:                        04:59:40   Log-Likelihood:                 88450.\n",
            "No. Observations:              100000   AIC:                        -1.769e+05\n",
            "Df Residuals:                   99998   BIC:                        -1.769e+05\n",
            "Df Model:                           1                                         \n",
            "Covariance Type:            nonrobust                                         \n",
            "==============================================================================\n",
            "                 coef    std err          t      P>|t|      [0.025      0.975]\n",
            "------------------------------------------------------------------------------\n",
            "const          1.0004      0.000   3166.125      0.000       1.000       1.001\n",
            "x1             1.5001      0.000   4735.113      0.000       1.499       1.501\n",
            "==============================================================================\n",
            "Omnibus:                        0.830   Durbin-Watson:                   2.004\n",
            "Prob(Omnibus):                  0.660   Jarque-Bera (JB):                0.840\n",
            "Skew:                           0.006   Prob(JB):                        0.657\n",
            "Kurtosis:                       2.991   Cond. No.                         1.00\n",
            "==============================================================================\n",
            "\n",
            "Notes:\n",
            "[1] Standard Errors assume that the covariance matrix of the errors is correctly specified.\n"
          ]
        }
      ],
      "source": [
        "# observe that a traditional OLS regression learns the same parameter values\n",
        "ols = sm.OLS(y_lin_train,sm.add_constant(x_train))\n",
        "res = ols.fit()\n",
        "print(res.summary())"
      ]
    },
    {
      "cell_type": "markdown",
      "source": [
        "As you can see, despite the different implementation, an ANN can yield effectively identical results as familiar OLS regression, under idealized circumstances."
      ],
      "metadata": {
        "id": "mhrZZ0EjQFWQ"
      }
    },
    {
      "cell_type": "markdown",
      "metadata": {
        "id": "6I6mIhdCo7l2"
      },
      "source": [
        "## Nonlinear regression\n",
        "In the previous section, we saw how an ANN can be used to approximate a simple linear regression. However, one of the main advantages of ANNs is that they can model highly nonlinear relationships. In this section, we'll start to see how that can be achieved."
      ]
    },
    {
      "cell_type": "markdown",
      "metadata": {
        "id": "1nppLlORpfAR"
      },
      "source": [
        "### Trying the linear model on nonlinear data\n",
        "First, we will try to fit our simulated nonlinear (bivariate quadratic) data using the same model architecture we tried in this last section. This time we'll code up that model in a different way (i.e., a more object-oriented approach, instead of the more imperative approach above)."
      ]
    },
    {
      "cell_type": "code",
      "execution_count": 18,
      "metadata": {
        "colab": {
          "base_uri": "https://localhost:8080/"
        },
        "id": "o9xuB5FbjloO",
        "outputId": "4998ee01-0ad8-4dff-c8b0-45e4d883ec78"
      },
      "outputs": [
        {
          "output_type": "stream",
          "name": "stdout",
          "text": [
            "SimpleLinearANN(\n",
            "  (layer_stack): Sequential(\n",
            "    (0): Linear(in_features=1, out_features=1, bias=True)\n",
            "  )\n",
            ")\n"
          ]
        }
      ],
      "source": [
        "# define model architecture\n",
        "class SimpleLinearANN(nn.Module):\n",
        "    def __init__(self):\n",
        "        super().__init__()\n",
        "        # the \"Sequential\" class offers a convenient way to fit many simple ANNs\n",
        "        self.layer_stack = nn.Sequential(\n",
        "            nn.Linear(1,1)\n",
        "        )\n",
        "\n",
        "    def forward(self, x):\n",
        "        pred = self.layer_stack(x)\n",
        "        return pred\n",
        "\n",
        "model2 = SimpleLinearANN().to(device)\n",
        "print(model2)"
      ]
    },
    {
      "cell_type": "markdown",
      "metadata": {
        "id": "Y1Yf_fu5rTpm"
      },
      "source": [
        "We'll also define our training and testing more functionally now, so that we can reuse these functions later."
      ]
    },
    {
      "cell_type": "code",
      "execution_count": 19,
      "metadata": {
        "id": "TUuIhd1IrRzK"
      },
      "outputs": [],
      "source": [
        "# define training function\n",
        "def train(dataloader, model, loss_fn, optimizer):\n",
        "    size = len(dataloader.dataset)\n",
        "    model.train()\n",
        "    for batch, (X, y) in enumerate(dataloader):\n",
        "        # note that we're actually using the GPU here\n",
        "        X, y = X.to(device), y.to(device)\n",
        "\n",
        "        # Compute prediction error\n",
        "        pred = model(X)\n",
        "        loss = loss_fn(pred, y)\n",
        "\n",
        "        # Backpropagation\n",
        "        loss.backward()\n",
        "        optimizer.step()\n",
        "        optimizer.zero_grad()\n",
        "\n",
        "        if batch % 100 == 0:\n",
        "            loss, current = loss.item(), (batch + 1) * len(X)\n",
        "            print(f\"loss: {loss:>7f}  [{current:>5d}/{size:>5d}]\")"
      ]
    },
    {
      "cell_type": "code",
      "execution_count": 20,
      "metadata": {
        "id": "cbPGbq6KsTeo"
      },
      "outputs": [],
      "source": [
        "# define test function\n",
        "def test(dataloader, model, loss_fn):\n",
        "    size = len(dataloader.dataset)\n",
        "    num_batches = len(dataloader)\n",
        "    model.eval()\n",
        "    test_loss, r2 = 0, 0 # evaluate loss (MSE, and R^2)\n",
        "    with torch.no_grad():\n",
        "        for X, y in dataloader:\n",
        "            X, y = X.to(device), y.to(device)\n",
        "            pred = model(X)\n",
        "            test_loss += loss_fn(pred, y).item()\n",
        "            r2 += 1 - torch.sum((y-pred)**2) / torch.sum(y **2)\n",
        "    test_loss /= num_batches\n",
        "    r2 /= num_batches\n",
        "    print(f\"Test performance: \\n R^2: {r2:>8f}, RMSE: {np.sqrt(test_loss):>8f} \\n\")\n",
        "    return r2.cpu().numpy(), test_loss"
      ]
    },
    {
      "cell_type": "markdown",
      "metadata": {
        "id": "vGQhIDY74e2n"
      },
      "source": [
        "Next, we'll put our simulated data into pytorch's dataloader - an iterable class that supports batching (breaking up the overall dataset into smaller batches), and shuffling (randomizing the order of that data), among other features. Generally it's a good idea to choose a batch size that is a power of 2 (for memory efficiency), and to shuffle your data to prevent catastrophic forgetting that can come from showing the model a bunch of similar examples in a row."
      ]
    },
    {
      "cell_type": "code",
      "execution_count": 21,
      "metadata": {
        "id": "nKdn5XrU4dQI"
      },
      "outputs": [],
      "source": [
        "# turn our numpy variables into pytorch datasets\n",
        "xtrain_tensor = torch.from_numpy(np.float32(x_train))\n",
        "ytrain_tensor = torch.from_numpy(np.float32(y_non_train))\n",
        "nonlinear_training_data = TensorDataset(xtrain_tensor, ytrain_tensor)\n",
        "\n",
        "xtest_tensor = torch.from_numpy(np.float32(x_test))\n",
        "ytest_tensor = torch.from_numpy(np.float32(y_non_test))\n",
        "nonlinear_testing_data = TensorDataset(xtest_tensor, ytest_tensor)\n",
        "\n",
        "xval_tensor = torch.from_numpy(np.float32(x_val))\n",
        "yval_tensor = torch.from_numpy(np.float32(y_non_val))\n",
        "val_data = TensorDataset(xval_tensor, yval_tensor)\n",
        "\n",
        "# put the datasets into the dataloader\n",
        "train_dataloader = DataLoader(nonlinear_training_data, batch_size=64, shuffle=True)\n",
        "test_dataloader = DataLoader(nonlinear_testing_data, batch_size=64, shuffle=True)\n",
        "val_dataloader = DataLoader(val_data, batch_size=64, shuffle=True)"
      ]
    },
    {
      "cell_type": "code",
      "execution_count": 22,
      "metadata": {
        "colab": {
          "base_uri": "https://localhost:8080/"
        },
        "id": "5U4j0CF94BFe",
        "outputId": "29a49390-99ef-451a-c1e2-434efc4dc6be"
      },
      "outputs": [
        {
          "output_type": "stream",
          "name": "stdout",
          "text": [
            "Epoch 1\n",
            "-------------------------------\n",
            "loss: 3.297604  [   64/100000]\n",
            "loss: 2.270447  [ 6464/100000]\n",
            "loss: 2.475495  [12864/100000]\n",
            "loss: 2.216384  [19264/100000]\n",
            "loss: 2.483925  [25664/100000]\n",
            "loss: 3.111267  [32064/100000]\n",
            "loss: 2.170219  [38464/100000]\n",
            "loss: 3.388379  [44864/100000]\n",
            "loss: 4.701067  [51264/100000]\n",
            "loss: 1.805016  [57664/100000]\n",
            "loss: 1.798295  [64064/100000]\n",
            "loss: 2.880607  [70464/100000]\n",
            "loss: 1.875021  [76864/100000]\n",
            "loss: 1.566702  [83264/100000]\n",
            "loss: 1.444066  [89664/100000]\n",
            "loss: 3.873803  [96064/100000]\n",
            "Epoch 2\n",
            "-------------------------------\n",
            "loss: 1.891131  [   64/100000]\n",
            "loss: 1.695512  [ 6464/100000]\n",
            "loss: 1.589921  [12864/100000]\n",
            "loss: 1.268939  [19264/100000]\n",
            "loss: 1.167627  [25664/100000]\n",
            "loss: 1.327818  [32064/100000]\n",
            "loss: 1.701994  [38464/100000]\n",
            "loss: 0.960532  [44864/100000]\n",
            "loss: 1.701208  [51264/100000]\n",
            "loss: 5.352643  [57664/100000]\n",
            "loss: 1.198715  [64064/100000]\n",
            "loss: 2.584759  [70464/100000]\n",
            "loss: 2.101575  [76864/100000]\n",
            "loss: 2.096920  [83264/100000]\n",
            "loss: 3.844053  [89664/100000]\n",
            "loss: 2.158092  [96064/100000]\n",
            "Epoch 3\n",
            "-------------------------------\n",
            "loss: 2.072096  [   64/100000]\n",
            "loss: 2.084110  [ 6464/100000]\n",
            "loss: 2.557325  [12864/100000]\n",
            "loss: 1.547599  [19264/100000]\n",
            "loss: 1.849058  [25664/100000]\n",
            "loss: 2.230387  [32064/100000]\n",
            "loss: 0.976333  [38464/100000]\n",
            "loss: 0.971154  [44864/100000]\n",
            "loss: 2.253049  [51264/100000]\n",
            "loss: 1.980433  [57664/100000]\n",
            "loss: 1.413823  [64064/100000]\n",
            "loss: 3.303815  [70464/100000]\n",
            "loss: 3.310146  [76864/100000]\n",
            "loss: 1.572646  [83264/100000]\n",
            "loss: 2.585217  [89664/100000]\n",
            "loss: 2.679968  [96064/100000]\n",
            "Done!\n"
          ]
        }
      ],
      "source": [
        "# new we'll train the model (note that loss does not seem steadily to improve)\n",
        "loss = nn.MSELoss()\n",
        "optimizer = torch.optim.SGD(model2.parameters(),lr=.5)\n",
        "epochs = 3\n",
        "for t in range(epochs):\n",
        "    print(f\"Epoch {t+1}\\n-------------------------------\")\n",
        "    train(train_dataloader, model2, loss, optimizer)\n",
        "print(\"Done!\")"
      ]
    },
    {
      "cell_type": "markdown",
      "metadata": {
        "id": "KcUmrZitoiTx"
      },
      "source": [
        "As we can see below, the performance of the linear model is poor, and it is not capturing the nonlinear relationship in the data.\n"
      ]
    },
    {
      "cell_type": "code",
      "execution_count": 23,
      "metadata": {
        "colab": {
          "base_uri": "https://localhost:8080/"
        },
        "id": "XvlFx0v924KF",
        "outputId": "bd94923e-fcf5-4b15-d987-f48e933dadfd"
      },
      "outputs": [
        {
          "output_type": "stream",
          "name": "stdout",
          "text": [
            "Test performance: \n",
            " R^2: 0.300736, RMSE: 1.491297 \n",
            "\n"
          ]
        }
      ],
      "source": [
        "# performance metrics\n",
        "perf = test(test_dataloader, model2, loss)"
      ]
    },
    {
      "cell_type": "code",
      "execution_count": 24,
      "metadata": {
        "colab": {
          "base_uri": "https://localhost:8080/",
          "height": 449
        },
        "id": "3yeGKp3YnHVL",
        "outputId": "ddffbbf4-0c8c-40f9-d7d9-751ddda03d66"
      },
      "outputs": [
        {
          "output_type": "display_data",
          "data": {
            "text/plain": [
              "<Figure size 640x480 with 1 Axes>"
            ],
            "image/png": "[encoded data removed]"
          },
          "metadata": {}
        }
      ],
      "source": [
        "# plotting actual values vs. predictions\n",
        "ypred = model2(torch.from_numpy(np.float32(x_test)).to(device)).cpu().detach().numpy()\n",
        "plt.scatter(ypred,y_non_test,s=.1)\n",
        "plt.xlabel(\"Predictions\");\n",
        "plt.ylabel(\"Actual values\");"
      ]
    },
    {
      "cell_type": "markdown",
      "metadata": {
        "id": "L3l0fBJ2pZSt"
      },
      "source": [
        "### Shallow/wide nonlinear ANN\n",
        "As we've seen, linear regression can't capture a nonlinear relationship. The traditional approach to dealiung with this would be to do some manual feature engineering, like creating a quadratic term by multiplying our \"x\" by itself. This approach would actually work fine with the simulated data we're playing with here. However, it does not scale up well to datasets with more variables and more complex nonlinearities. A major part of the appeal of ANNs is that - under the right circumstances - they can learn optimal nonlinear mappings between inputs and outputs for us.\n",
        "\n",
        "Most of the ANNs you'll see making news these days are \"deep\" neural networks. The deep in this phrase refers to stacking a large number of layers on top of each other. However, before we do that, it's worth taking a look at \"shallow\" neural networks. Shallow networks can actually do everything that deep nets can do - in principle. In practice, they tend to do this in a different way, that is [often less than ideal](https://ojs.aaai.org/index.php/AAAI/article/view/10913/10772). Specifically, shallow networks are memorization machines. They learn many simple local approximations to the relationship between inputs and outputs. With enough capacity, they can memorize an arbitrarily complex relationship, making them universal function approximators. Let's see how this works! Below we'll train a shallow ANN with many more units, and a nonlinear activation function ([ReLU](https://en.wikipedia.org/wiki/Rectifier_(neural_networks)) - probably the most popular nonlinear activation function for ANNs)."
      ]
    },
    {
      "cell_type": "code",
      "execution_count": 25,
      "metadata": {
        "colab": {
          "base_uri": "https://localhost:8080/"
        },
        "id": "zkEuH0aXpY01",
        "outputId": "17f6cc9d-26a2-46b6-ec2a-04bf279f41a4"
      },
      "outputs": [
        {
          "output_type": "stream",
          "name": "stdout",
          "text": [
            "ShallowWideANN(\n",
            "  (layer_stack): Sequential(\n",
            "    (0): Linear(in_features=1, out_features=1000, bias=True)\n",
            "    (1): ReLU()\n",
            "    (2): Linear(in_features=1000, out_features=1, bias=True)\n",
            "  )\n",
            ")\n"
          ]
        }
      ],
      "source": [
        "# define model architecture\n",
        "class ShallowWideANN(nn.Module):\n",
        "    def __init__(self):\n",
        "        super().__init__()\n",
        "        self.layer_stack = nn.Sequential(\n",
        "            nn.Linear(1,1000),  ## layer with 1000 units!\n",
        "            nn.ReLU(),      ## apply a nonlinear activation function\n",
        "            nn.Linear(1000,1),      ## single linear output\n",
        "        )\n",
        "\n",
        "    def forward(self, x):\n",
        "        pred = self.layer_stack(x)\n",
        "        return pred\n",
        "\n",
        "model3 = ShallowWideANN().to(device)\n",
        "print(model3)"
      ]
    },
    {
      "cell_type": "code",
      "execution_count": 26,
      "metadata": {
        "colab": {
          "base_uri": "https://localhost:8080/"
        },
        "id": "vITd_1Ltnqt3",
        "outputId": "33bc3378-0ce6-4b17-b35d-a7f9f53d609b"
      },
      "outputs": [
        {
          "output_type": "stream",
          "name": "stdout",
          "text": [
            "Epoch 1\n",
            "-------------------------------\n",
            "loss: 2.869074  [   64/100000]\n",
            "loss: 0.120316  [ 6464/100000]\n",
            "loss: 0.041936  [12864/100000]\n",
            "loss: 0.037916  [19264/100000]\n",
            "loss: 0.028931  [25664/100000]\n",
            "loss: 0.040988  [32064/100000]\n",
            "loss: 0.178121  [38464/100000]\n",
            "loss: 0.031798  [44864/100000]\n",
            "loss: 0.067478  [51264/100000]\n",
            "loss: 0.031456  [57664/100000]\n",
            "loss: 0.021962  [64064/100000]\n",
            "loss: 0.018875  [70464/100000]\n",
            "loss: 0.023422  [76864/100000]\n",
            "loss: 0.053598  [83264/100000]\n",
            "loss: 0.023415  [89664/100000]\n",
            "loss: 0.033236  [96064/100000]\n",
            "Epoch 2\n",
            "-------------------------------\n",
            "loss: 0.016946  [   64/100000]\n",
            "loss: 0.024055  [ 6464/100000]\n",
            "loss: 0.046232  [12864/100000]\n",
            "loss: 0.016391  [19264/100000]\n",
            "loss: 0.019041  [25664/100000]\n",
            "loss: 0.017909  [32064/100000]\n",
            "loss: 0.016895  [38464/100000]\n",
            "loss: 0.022496  [44864/100000]\n",
            "loss: 0.050606  [51264/100000]\n",
            "loss: 0.016962  [57664/100000]\n",
            "loss: 0.020621  [64064/100000]\n",
            "loss: 0.017214  [70464/100000]\n",
            "loss: 0.021813  [76864/100000]\n",
            "loss: 0.025850  [83264/100000]\n",
            "loss: 0.013514  [89664/100000]\n",
            "loss: 0.026187  [96064/100000]\n",
            "Epoch 3\n",
            "-------------------------------\n",
            "loss: 0.021621  [   64/100000]\n",
            "loss: 0.015872  [ 6464/100000]\n",
            "loss: 0.014883  [12864/100000]\n",
            "loss: 0.022556  [19264/100000]\n",
            "loss: 0.016457  [25664/100000]\n",
            "loss: 0.013740  [32064/100000]\n",
            "loss: 0.019121  [38464/100000]\n",
            "loss: 0.018989  [44864/100000]\n",
            "loss: 0.034832  [51264/100000]\n",
            "loss: 0.024770  [57664/100000]\n",
            "loss: 0.013531  [64064/100000]\n",
            "loss: 0.013870  [70464/100000]\n",
            "loss: 0.018242  [76864/100000]\n",
            "loss: 0.182599  [83264/100000]\n",
            "loss: 0.021299  [89664/100000]\n",
            "loss: 0.020903  [96064/100000]\n",
            "Done!\n"
          ]
        }
      ],
      "source": [
        "# new we'll train the model\n",
        "# note that we've tuned down the learning rate\n",
        "loss = nn.MSELoss()\n",
        "optimizer = torch.optim.SGD(model3.parameters(),lr=.001)\n",
        "epochs = 3\n",
        "for t in range(epochs):\n",
        "    print(f\"Epoch {t+1}\\n-------------------------------\")\n",
        "    train(train_dataloader, model3, loss, optimizer)\n",
        "print(\"Done!\")"
      ]
    },
    {
      "cell_type": "code",
      "execution_count": 27,
      "metadata": {
        "colab": {
          "base_uri": "https://localhost:8080/"
        },
        "id": "2N7wquOTAKvE",
        "outputId": "ce4840b5-d3b2-4a51-d03b-60171377a7bd"
      },
      "outputs": [
        {
          "output_type": "stream",
          "name": "stdout",
          "text": [
            "Test performance: \n",
            " R^2: 0.990787, RMSE: 0.171964 \n",
            "\n"
          ]
        }
      ],
      "source": [
        "# performance metrics\n",
        "# the shallow network is doing quite well!\n",
        "perf = test(test_dataloader, model3, loss)"
      ]
    },
    {
      "cell_type": "code",
      "execution_count": 28,
      "metadata": {
        "colab": {
          "base_uri": "https://localhost:8080/",
          "height": 449
        },
        "id": "r3RWinyAri4-",
        "outputId": "1ccd80b0-6f5e-47da-96b3-2ba13d9c5bdc"
      },
      "outputs": [
        {
          "output_type": "display_data",
          "data": {
            "text/plain": [
              "<Figure size 640x480 with 1 Axes>"
            ],
            "image/png": "[encoded data removed]"
          },
          "metadata": {}
        }
      ],
      "source": [
        "# plotting actual values vs. predictions\n",
        "ypred = model3(torch.from_numpy(np.float32(x_test)).to(device)).cpu().detach().numpy()\n",
        "plt.scatter(ypred,y_non_test,s=.1)\n",
        "plt.xlabel(\"Predictions\");\n",
        "plt.ylabel(\"Actual values\");"
      ]
    },
    {
      "cell_type": "markdown",
      "metadata": {
        "id": "lNWhCAESwhOe"
      },
      "source": [
        "As you can see, the shallow network has learned a pretty good approximation of the nonlinear relationship in our data, just by memorizing small bits of it in each unit. The results here aren't perfect, but with infinite data and infinite units, a shallow network can get arbitrarily close to perfection. In our more mundane world of limited data and models, deep neural networks typically offer a better solution."
      ]
    },
    {
      "cell_type": "markdown",
      "metadata": {
        "id": "kxzLLCNRw_W5"
      },
      "source": [
        "### Deep neural network\n",
        "In the example below, we'll use far fewer units to achieve similar performance, via a deep neural network. This network features 5 ReLU layers, with units decreasing in power of two. The final layer is a single linear unit, as in previous cases. An important addition here is batch normalization after each ReLU activation. Batch normalization is basically like z-scoring the data. This is really helpful to prevent what's known as the \"exploding gradient\" problem. Basically, nonlinear transformations have the potential to make some numbers really huge (or tiny) and this can cause problems for numerical computing with float point representations. Batch normalization helps to mitigate this problem, serving as a sort of regularization that improves training."
      ]
    },
    {
      "cell_type": "code",
      "execution_count": 29,
      "metadata": {
        "colab": {
          "base_uri": "https://localhost:8080/"
        },
        "id": "cT278bxPxBMh",
        "outputId": "cabefb4e-b8d7-4703-f3c2-516adfc0f75a"
      },
      "outputs": [
        {
          "output_type": "stream",
          "name": "stdout",
          "text": [
            "DeepANN(\n",
            "  (layer_stack): Sequential(\n",
            "    (0): Linear(in_features=1, out_features=32, bias=True)\n",
            "    (1): ReLU()\n",
            "    (2): BatchNorm1d(32, eps=1e-05, momentum=0.1, affine=True, track_running_stats=True)\n",
            "    (3): Linear(in_features=32, out_features=16, bias=True)\n",
            "    (4): ReLU()\n",
            "    (5): BatchNorm1d(16, eps=1e-05, momentum=0.1, affine=True, track_running_stats=True)\n",
            "    (6): Linear(in_features=16, out_features=8, bias=True)\n",
            "    (7): ReLU()\n",
            "    (8): BatchNorm1d(8, eps=1e-05, momentum=0.1, affine=True, track_running_stats=True)\n",
            "    (9): Linear(in_features=8, out_features=4, bias=True)\n",
            "    (10): ReLU()\n",
            "    (11): BatchNorm1d(4, eps=1e-05, momentum=0.1, affine=True, track_running_stats=True)\n",
            "    (12): Linear(in_features=4, out_features=2, bias=True)\n",
            "    (13): ReLU()\n",
            "    (14): BatchNorm1d(2, eps=1e-05, momentum=0.1, affine=True, track_running_stats=True)\n",
            "    (15): Linear(in_features=2, out_features=1, bias=True)\n",
            "  )\n",
            ")\n"
          ]
        }
      ],
      "source": [
        "# define model architecture\n",
        "class DeepANN(nn.Module):\n",
        "    def __init__(self):\n",
        "        super().__init__()\n",
        "        self.layer_stack = nn.Sequential(\n",
        "            nn.Linear(1,32),\n",
        "            nn.ReLU(),\n",
        "            nn.BatchNorm1d(32),\n",
        "            nn.Linear(32,16),\n",
        "            nn.ReLU(),\n",
        "            nn.BatchNorm1d(16),\n",
        "            nn.Linear(16,8),\n",
        "            nn.ReLU(),\n",
        "            nn.BatchNorm1d(8),\n",
        "            nn.Linear(8,4),\n",
        "            nn.ReLU(),\n",
        "            nn.BatchNorm1d(4),\n",
        "            nn.Linear(4,2),\n",
        "            nn.ReLU(),\n",
        "            nn.BatchNorm1d(2),\n",
        "            nn.Linear(2,1)\n",
        "        )\n",
        "\n",
        "    def forward(self, x):\n",
        "        pred = self.layer_stack(x)\n",
        "        return pred\n",
        "\n",
        "model4 = DeepANN().to(device)\n",
        "print(model4)"
      ]
    },
    {
      "cell_type": "code",
      "execution_count": 30,
      "metadata": {
        "colab": {
          "base_uri": "https://localhost:8080/"
        },
        "id": "wGma6Ndbxc1n",
        "outputId": "e7eb734c-db17-4bb8-85a2-1e5f14a45e40"
      },
      "outputs": [
        {
          "output_type": "stream",
          "name": "stdout",
          "text": [
            "Epoch 1\n",
            "-------------------------------\n",
            "loss: 4.667707  [   64/100000]\n",
            "loss: 0.989088  [ 6464/100000]\n",
            "loss: 0.216513  [12864/100000]\n",
            "loss: 0.264145  [19264/100000]\n",
            "loss: 0.306660  [25664/100000]\n",
            "loss: 0.456342  [32064/100000]\n",
            "loss: 0.057279  [38464/100000]\n",
            "loss: 0.060745  [44864/100000]\n",
            "loss: 0.394866  [51264/100000]\n",
            "loss: 0.418425  [57664/100000]\n",
            "loss: 0.314052  [64064/100000]\n",
            "loss: 0.173316  [70464/100000]\n",
            "loss: 0.039098  [76864/100000]\n",
            "loss: 0.173622  [83264/100000]\n",
            "loss: 0.153746  [89664/100000]\n",
            "loss: 0.228229  [96064/100000]\n",
            "Epoch 2\n",
            "-------------------------------\n",
            "loss: 0.071922  [   64/100000]\n",
            "loss: 0.055156  [ 6464/100000]\n",
            "loss: 0.248226  [12864/100000]\n",
            "loss: 0.049417  [19264/100000]\n",
            "loss: 0.040127  [25664/100000]\n",
            "loss: 0.057625  [32064/100000]\n",
            "loss: 0.714862  [38464/100000]\n",
            "loss: 0.200428  [44864/100000]\n",
            "loss: 0.236930  [51264/100000]\n",
            "loss: 0.031537  [57664/100000]\n",
            "loss: 0.179619  [64064/100000]\n",
            "loss: 0.115763  [70464/100000]\n",
            "loss: 0.201975  [76864/100000]\n",
            "loss: 0.044374  [83264/100000]\n",
            "loss: 0.070829  [89664/100000]\n",
            "loss: 0.019935  [96064/100000]\n",
            "Epoch 3\n",
            "-------------------------------\n",
            "loss: 0.119832  [   64/100000]\n",
            "loss: 0.057674  [ 6464/100000]\n",
            "loss: 0.081795  [12864/100000]\n",
            "loss: 0.079885  [19264/100000]\n",
            "loss: 0.036620  [25664/100000]\n",
            "loss: 0.088968  [32064/100000]\n",
            "loss: 0.167877  [38464/100000]\n",
            "loss: 0.203338  [44864/100000]\n",
            "loss: 0.018583  [51264/100000]\n",
            "loss: 0.209267  [57664/100000]\n",
            "loss: 0.175974  [64064/100000]\n",
            "loss: 0.060453  [70464/100000]\n",
            "loss: 0.039461  [76864/100000]\n",
            "loss: 0.105169  [83264/100000]\n",
            "loss: 0.085562  [89664/100000]\n",
            "loss: 0.035103  [96064/100000]\n",
            "Done!\n"
          ]
        }
      ],
      "source": [
        "# new we'll train the model\n",
        "loss = nn.MSELoss()\n",
        "optimizer = torch.optim.SGD(model4.parameters(),lr=.01)\n",
        "epochs = 3\n",
        "for t in range(epochs):\n",
        "    print(f\"Epoch {t+1}\\n-------------------------------\")\n",
        "    train(train_dataloader, model4, loss, optimizer)\n",
        "print(\"Done!\")"
      ]
    },
    {
      "cell_type": "code",
      "execution_count": 31,
      "metadata": {
        "colab": {
          "base_uri": "https://localhost:8080/"
        },
        "id": "AJxrmvi1xkSc",
        "outputId": "07769150-6cb8-491b-e304-2281593bd9d1"
      },
      "outputs": [
        {
          "output_type": "stream",
          "name": "stdout",
          "text": [
            "Test performance: \n",
            " R^2: 0.980514, RMSE: 0.292389 \n",
            "\n"
          ]
        }
      ],
      "source": [
        "# performance metrics\n",
        "perf = test(test_dataloader, model4, loss)"
      ]
    },
    {
      "cell_type": "code",
      "execution_count": 32,
      "metadata": {
        "colab": {
          "base_uri": "https://localhost:8080/",
          "height": 449
        },
        "id": "_D7aGcR7x0y6",
        "outputId": "2881485f-ad23-4078-8842-da2aaa19b2c0"
      },
      "outputs": [
        {
          "output_type": "display_data",
          "data": {
            "text/plain": [
              "<Figure size 640x480 with 1 Axes>"
            ],
            "image/png": "[encoded data removed]"
          },
          "metadata": {}
        }
      ],
      "source": [
        "# plotting actual values vs. predictions\n",
        "ypred = model4(torch.from_numpy(np.float32(x_test)).to(device)).cpu().detach().numpy()\n",
        "plt.scatter(ypred,y_non_test,s=.1)\n",
        "plt.xlabel(\"Predictions\");\n",
        "plt.ylabel(\"Actual values\");"
      ]
    },
    {
      "cell_type": "code",
      "source": [
        "# compute the number of trainable parameters in shallow and deep net\n",
        "m3p = sum(p.numel() for p in model3.parameters() if p.requires_grad)\n",
        "m4p = sum(p.numel() for p in model4.parameters() if p.requires_grad)\n",
        "print(\"Shallow net parameter number: \" + str(m3p))\n",
        "print(\"Deep net parameter number: \" + str(m4p))"
      ],
      "metadata": {
        "colab": {
          "base_uri": "https://localhost:8080/"
        },
        "id": "A1IzvAZsSsYk",
        "outputId": "13f2a47a-7eec-4274-c06c-1bfcdfb4a2d6"
      },
      "execution_count": 33,
      "outputs": [
        {
          "output_type": "stream",
          "name": "stdout",
          "text": [
            "Shallow net parameter number: 3001\n",
            "Deep net parameter number: 901\n"
          ]
        }
      ]
    },
    {
      "cell_type": "markdown",
      "metadata": {
        "id": "KQalPfpB0kNz"
      },
      "source": [
        "As you can see, the deep net has achieved similar performance to the shallow network, with only a fraction of the parameters!"
      ]
    },
    {
      "cell_type": "markdown",
      "metadata": {
        "id": "TNIfRm2h3BMq"
      },
      "source": [
        "### Bells and whistles\n",
        "The deep net we used in the previous example was quite \"bare bones\" by contemporary standards. In practice, most deep nets rely on a variety of other features to improve their performance. Showcasing all of these features is beyond the scope of this tutorial, but the example below demonstrates a few popular examples, including:\n",
        "\n",
        "\n",
        "*   <b>Skip-layer connections</b>: In the most prototypical case, each layer in an ANN is connected only to the adjacent layers (e.g., layer 2 is connected to layer 1 and layer 3). This is known as a sequential structure, and the sequential class in pytorch makes this very convenient. However, some of the most important milestones in deep learning have been achieved by abandoning this simple structure. For example, resnets (residual networks) are an  architecture that allowed computer vision to equal humans in tasks like object identification. These networks rely on connections that skip layers. The network below demonstrates this: in addition to receiving input from the previous layer, the final outputs here also receive input from the first layer. The potential of the nn.Module class extends well beyond this too: it can be used to stitch together different ANNs performing different tasks in different ways.\n",
        "*   <b>Alternate activation functions</b>: Although ReLU is probably the most popular default choice of nonlinear activation function, there are many options to choose from, and some may be better suited to particular problems. Here we demonstrate the use of the hyperbolic tangent (tanh) function as an alternative to ReLU. For niche applications (e.g., cognitive modeling) you could even craft your own bespoke activation functions.\n",
        "*   <b>Dropout</b>: ANNs can use the same regularization, like ridge/lasso, that typical linear models can use. However, dropout is a method unique to ANNs. This method effectively \"lesions\" a random subset of units during the forward pass of the model. This forces the model to acquire a more robust structure - effectively, many different assemblies that can accomplish the same end goal - that tends to reduce overfitting.\n",
        "*   <b>Early stopping</b>: Another strategy to prevent overfitting is early stopping. This strategy only makes sense for optimization strategies that proceed in a sequential manner (like gradient descent) rather than a single step of matrix math. Early stopping compares the performance of the model in training set to its performance in a validation set. As long as validation performance continues to improve, the model keep training. But when training performance improves while validation performance stalls, this is a sign of overfitting. Early stopping tracks this potential divergence between training and validation, and stops training when validation performance stops improving.\n"
      ]
    },
    {
      "cell_type": "code",
      "execution_count": 34,
      "metadata": {
        "colab": {
          "base_uri": "https://localhost:8080/"
        },
        "id": "9RDXf_L_9HUY",
        "outputId": "d1eb04f6-a8e9-49d5-f923-e8e03e725dcb"
      },
      "outputs": [
        {
          "output_type": "stream",
          "name": "stdout",
          "text": [
            "FancyANN(\n",
            "  (layerlist): ModuleList(\n",
            "    (0): Linear(in_features=1, out_features=32, bias=True)\n",
            "    (1): Tanh()\n",
            "    (2): BatchNorm1d(32, eps=1e-05, momentum=0.1, affine=True, track_running_stats=True)\n",
            "    (3): Dropout(p=0.01, inplace=False)\n",
            "    (4): Linear(in_features=32, out_features=16, bias=True)\n",
            "    (5): Tanh()\n",
            "    (6): BatchNorm1d(16, eps=1e-05, momentum=0.1, affine=True, track_running_stats=True)\n",
            "    (7): Dropout(p=0.01, inplace=False)\n",
            "    (8): Linear(in_features=16, out_features=8, bias=True)\n",
            "    (9): Tanh()\n",
            "    (10): BatchNorm1d(8, eps=1e-05, momentum=0.1, affine=True, track_running_stats=True)\n",
            "    (11): Dropout(p=0.01, inplace=False)\n",
            "    (12): Linear(in_features=8, out_features=4, bias=True)\n",
            "    (13): Tanh()\n",
            "    (14): BatchNorm1d(4, eps=1e-05, momentum=0.1, affine=True, track_running_stats=True)\n",
            "    (15): Dropout(p=0.01, inplace=False)\n",
            "    (16): Linear(in_features=4, out_features=2, bias=True)\n",
            "    (17): Tanh()\n",
            "    (18): BatchNorm1d(2, eps=1e-05, momentum=0.1, affine=True, track_running_stats=True)\n",
            "    (19): Dropout(p=0.01, inplace=False)\n",
            "    (20): Linear(in_features=34, out_features=1, bias=True)\n",
            "  )\n",
            ")\n"
          ]
        }
      ],
      "source": [
        "# define model architecture\n",
        "class FancyANN(nn.Module):\n",
        "    def __init__(self, ninput=1, noutput=1, nhlayer=5, fextint=True):\n",
        "        super().__init__()\n",
        "        self.fextint = 0\n",
        "        if fextint:\n",
        "            self.fextint = 2**nhlayer\n",
        "        self.nhlayer = nhlayer\n",
        "        self.layerlist = nn.ModuleList()\n",
        "        for i in range(nhlayer):\n",
        "            if i == 0:\n",
        "                self.layerlist.append(nn.Linear(ninput,2**(nhlayer-i)))\n",
        "            else:\n",
        "                self.layerlist.append(nn.Linear(2**(nhlayer-i+1),2**(nhlayer-i)))\n",
        "            self.layerlist.append(nn.Tanh())    # here's our alternative activation function (tanh)\n",
        "            self.layerlist.append(nn.BatchNorm1d(2**(nhlayer-i)))\n",
        "            self.layerlist.append(nn.Dropout(p=.01))    ## here's where we add dropout\n",
        "        self.layerlist.append(nn.Linear(self.fextint+2,noutput))\n",
        "\n",
        "    def forward(self, x):\n",
        "        for i in range(len(self.layerlist)-1):\n",
        "            x = self.layerlist[i](x)\n",
        "            if i == 2:\n",
        "                x0 = torch.clone(x)\n",
        "        pred = self.layerlist[-1](torch.cat((x0,x),1)) ## here's where the first layer and penultimate layer get joined together as inputs to the final layer\n",
        "        return pred\n",
        "\n",
        "model5 = FancyANN().to(device)\n",
        "print(model5)"
      ]
    },
    {
      "cell_type": "code",
      "execution_count": 35,
      "metadata": {
        "id": "JnPm153TQ48K"
      },
      "outputs": [],
      "source": [
        "# this class defines the logic of early stopping\n",
        "# higher patience means that improvement on the validation set has to stall for longer before training is terminated\n",
        "class EarlyStopper:\n",
        "    def __init__(self, patience=1, min_delta=0):\n",
        "        self.patience = patience\n",
        "        self.min_delta = min_delta\n",
        "        self.counter = 0\n",
        "        self.min_validation_loss = np.inf\n",
        "\n",
        "    def early_stop(self, validation_loss):\n",
        "        if validation_loss < self.min_validation_loss:\n",
        "            self.min_validation_loss = validation_loss\n",
        "            self.counter = 0\n",
        "        elif validation_loss > (self.min_validation_loss + self.min_delta):\n",
        "            self.counter += 1\n",
        "            if self.counter >= self.patience:\n",
        "                return True\n",
        "        return False"
      ]
    },
    {
      "cell_type": "code",
      "execution_count": 36,
      "metadata": {
        "colab": {
          "base_uri": "https://localhost:8080/"
        },
        "id": "bnfctx2N8Zoz",
        "outputId": "8c5903b9-4ae5-45f4-f458-1f933b3c45fc"
      },
      "outputs": [
        {
          "output_type": "stream",
          "name": "stdout",
          "text": [
            "Epoch 1\n",
            "-------------------------------\n",
            "loss: 3.888131  [   64/100000]\n",
            "loss: 3.917098  [ 6464/100000]\n",
            "loss: 2.937878  [12864/100000]\n",
            "loss: 5.071633  [19264/100000]\n",
            "loss: 3.716036  [25664/100000]\n",
            "loss: 2.398747  [32064/100000]\n",
            "loss: 1.351015  [38464/100000]\n",
            "loss: 1.365817  [44864/100000]\n",
            "loss: 1.875855  [51264/100000]\n",
            "loss: 1.061013  [57664/100000]\n",
            "loss: 1.337905  [64064/100000]\n",
            "loss: 1.853627  [70464/100000]\n",
            "loss: 0.764148  [76864/100000]\n",
            "loss: 0.915834  [83264/100000]\n",
            "loss: 0.340542  [89664/100000]\n",
            "loss: 0.346805  [96064/100000]\n",
            "Test performance: \n",
            " R^2: 0.780519, RMSE: 0.845240 \n",
            "\n",
            "Epoch 2\n",
            "-------------------------------\n",
            "loss: 0.396910  [   64/100000]\n",
            "loss: 0.205753  [ 6464/100000]\n",
            "loss: 0.607033  [12864/100000]\n",
            "loss: 1.113463  [19264/100000]\n",
            "loss: 0.097006  [25664/100000]\n",
            "loss: 0.100322  [32064/100000]\n",
            "loss: 0.931996  [38464/100000]\n",
            "loss: 0.178657  [44864/100000]\n",
            "loss: 0.537315  [51264/100000]\n",
            "loss: 0.205982  [57664/100000]\n",
            "loss: 0.245556  [64064/100000]\n",
            "loss: 0.080524  [70464/100000]\n",
            "loss: 0.222449  [76864/100000]\n",
            "loss: 0.213365  [83264/100000]\n",
            "loss: 0.096103  [89664/100000]\n",
            "loss: 0.591011  [96064/100000]\n",
            "Test performance: \n",
            " R^2: 0.979044, RMSE: 0.285466 \n",
            "\n",
            "Epoch 3\n",
            "-------------------------------\n",
            "loss: 0.064183  [   64/100000]\n",
            "loss: 0.243895  [ 6464/100000]\n",
            "loss: 0.307391  [12864/100000]\n",
            "loss: 0.179972  [19264/100000]\n",
            "loss: 0.183355  [25664/100000]\n",
            "loss: 0.188181  [32064/100000]\n",
            "loss: 0.091715  [38464/100000]\n",
            "loss: 0.677460  [44864/100000]\n",
            "loss: 0.177787  [51264/100000]\n",
            "loss: 0.066920  [57664/100000]\n",
            "loss: 0.166385  [64064/100000]\n",
            "loss: 0.066744  [70464/100000]\n",
            "loss: 0.129679  [76864/100000]\n",
            "loss: 0.137252  [83264/100000]\n",
            "loss: 0.135885  [89664/100000]\n",
            "loss: 0.153805  [96064/100000]\n",
            "Test performance: \n",
            " R^2: 0.986803, RMSE: 0.227382 \n",
            "\n",
            "Epoch 4\n",
            "-------------------------------\n",
            "loss: 0.329610  [   64/100000]\n",
            "loss: 0.309667  [ 6464/100000]\n",
            "loss: 0.238928  [12864/100000]\n",
            "loss: 0.049672  [19264/100000]\n",
            "loss: 0.172278  [25664/100000]\n",
            "loss: 0.167099  [32064/100000]\n",
            "loss: 0.202609  [38464/100000]\n",
            "loss: 0.105646  [44864/100000]\n",
            "loss: 0.214544  [51264/100000]\n",
            "loss: 0.181315  [57664/100000]\n",
            "loss: 0.105952  [64064/100000]\n",
            "loss: 0.054405  [70464/100000]\n",
            "loss: 0.230735  [76864/100000]\n",
            "loss: 0.109101  [83264/100000]\n",
            "loss: 0.124816  [89664/100000]\n",
            "loss: 0.099370  [96064/100000]\n",
            "Test performance: \n",
            " R^2: 0.988537, RMSE: 0.204468 \n",
            "\n",
            "Epoch 5\n",
            "-------------------------------\n",
            "loss: 0.063645  [   64/100000]\n",
            "loss: 0.123861  [ 6464/100000]\n",
            "loss: 0.083427  [12864/100000]\n",
            "loss: 0.250894  [19264/100000]\n",
            "loss: 0.298371  [25664/100000]\n",
            "loss: 0.049779  [32064/100000]\n",
            "loss: 0.054952  [38464/100000]\n",
            "loss: 0.233167  [44864/100000]\n",
            "loss: 0.297191  [51264/100000]\n",
            "loss: 0.102348  [57664/100000]\n",
            "loss: 0.036531  [64064/100000]\n",
            "loss: 0.079810  [70464/100000]\n",
            "loss: 0.119193  [76864/100000]\n",
            "loss: 0.105115  [83264/100000]\n",
            "loss: 0.118437  [89664/100000]\n",
            "loss: 0.212578  [96064/100000]\n",
            "Test performance: \n",
            " R^2: 0.989374, RMSE: 0.194593 \n",
            "\n",
            "Epoch 6\n",
            "-------------------------------\n",
            "loss: 0.104637  [   64/100000]\n",
            "loss: 0.124436  [ 6464/100000]\n",
            "loss: 0.227147  [12864/100000]\n",
            "loss: 0.285004  [19264/100000]\n",
            "loss: 0.306534  [25664/100000]\n",
            "loss: 0.126568  [32064/100000]\n",
            "loss: 0.062833  [38464/100000]\n",
            "loss: 0.070517  [44864/100000]\n",
            "loss: 0.049845  [51264/100000]\n",
            "loss: 0.080152  [57664/100000]\n",
            "loss: 0.142207  [64064/100000]\n",
            "loss: 0.082779  [70464/100000]\n",
            "loss: 0.067380  [76864/100000]\n",
            "loss: 0.080468  [83264/100000]\n",
            "loss: 0.099580  [89664/100000]\n",
            "loss: 0.149001  [96064/100000]\n",
            "Test performance: \n",
            " R^2: 0.991916, RMSE: 0.170523 \n",
            "\n",
            "Epoch 7\n",
            "-------------------------------\n",
            "loss: 0.090363  [   64/100000]\n",
            "loss: 0.105410  [ 6464/100000]\n",
            "loss: 0.040804  [12864/100000]\n",
            "loss: 0.054256  [19264/100000]\n",
            "loss: 0.027425  [25664/100000]\n",
            "loss: 0.207500  [32064/100000]\n",
            "loss: 0.090951  [38464/100000]\n",
            "loss: 0.086845  [44864/100000]\n",
            "loss: 0.079099  [51264/100000]\n",
            "loss: 0.275741  [57664/100000]\n",
            "loss: 0.028412  [64064/100000]\n",
            "loss: 0.116104  [70464/100000]\n",
            "loss: 0.120119  [76864/100000]\n",
            "loss: 0.070722  [83264/100000]\n",
            "loss: 0.085920  [89664/100000]\n",
            "loss: 0.083501  [96064/100000]\n",
            "Test performance: \n",
            " R^2: 0.991818, RMSE: 0.170135 \n",
            "\n",
            "Epoch 8\n",
            "-------------------------------\n",
            "loss: 0.223899  [   64/100000]\n",
            "loss: 0.205298  [ 6464/100000]\n",
            "loss: 0.073132  [12864/100000]\n",
            "loss: 1.529428  [19264/100000]\n",
            "loss: 0.101772  [25664/100000]\n",
            "loss: 0.157559  [32064/100000]\n",
            "loss: 0.073842  [38464/100000]\n",
            "loss: 0.123590  [44864/100000]\n",
            "loss: 0.053510  [51264/100000]\n",
            "loss: 0.150473  [57664/100000]\n",
            "loss: 0.092963  [64064/100000]\n",
            "loss: 0.050164  [70464/100000]\n",
            "loss: 0.299292  [76864/100000]\n",
            "loss: 0.059084  [83264/100000]\n",
            "loss: 0.048018  [89664/100000]\n",
            "loss: 0.114542  [96064/100000]\n",
            "Test performance: \n",
            " R^2: 0.992695, RMSE: 0.156655 \n",
            "\n",
            "Epoch 9\n",
            "-------------------------------\n",
            "loss: 0.048064  [   64/100000]\n",
            "loss: 1.965292  [ 6464/100000]\n",
            "loss: 0.050489  [12864/100000]\n",
            "loss: 0.111465  [19264/100000]\n",
            "loss: 0.129185  [25664/100000]\n",
            "loss: 0.453362  [32064/100000]\n",
            "loss: 0.169424  [38464/100000]\n",
            "loss: 0.096436  [44864/100000]\n",
            "loss: 0.081334  [51264/100000]\n",
            "loss: 0.086524  [57664/100000]\n",
            "loss: 0.108220  [64064/100000]\n",
            "loss: 0.026716  [70464/100000]\n",
            "loss: 0.330061  [76864/100000]\n",
            "loss: 0.081770  [83264/100000]\n",
            "loss: 0.102128  [89664/100000]\n",
            "loss: 0.380724  [96064/100000]\n",
            "Test performance: \n",
            " R^2: 0.992518, RMSE: 0.160280 \n",
            "\n",
            "Epoch 10\n",
            "-------------------------------\n",
            "loss: 0.067976  [   64/100000]\n",
            "loss: 0.061944  [ 6464/100000]\n",
            "loss: 0.093701  [12864/100000]\n",
            "loss: 0.062002  [19264/100000]\n",
            "loss: 0.124478  [25664/100000]\n",
            "loss: 0.267889  [32064/100000]\n",
            "loss: 0.094276  [38464/100000]\n",
            "loss: 0.100655  [44864/100000]\n",
            "loss: 0.194106  [51264/100000]\n",
            "loss: 1.437881  [57664/100000]\n",
            "loss: 0.037840  [64064/100000]\n",
            "loss: 0.100686  [70464/100000]\n",
            "loss: 0.042177  [76864/100000]\n",
            "loss: 0.150511  [83264/100000]\n",
            "loss: 0.025171  [89664/100000]\n",
            "loss: 0.045438  [96064/100000]\n",
            "Test performance: \n",
            " R^2: 0.991603, RMSE: 0.166103 \n",
            "\n",
            "Epoch 11\n",
            "-------------------------------\n",
            "loss: 0.113018  [   64/100000]\n",
            "loss: 0.364864  [ 6464/100000]\n",
            "loss: 0.086984  [12864/100000]\n",
            "loss: 0.089000  [19264/100000]\n",
            "loss: 0.048422  [25664/100000]\n",
            "loss: 0.111554  [32064/100000]\n",
            "loss: 0.170104  [38464/100000]\n",
            "loss: 0.456191  [44864/100000]\n",
            "loss: 0.430309  [51264/100000]\n",
            "loss: 0.137799  [57664/100000]\n",
            "loss: 0.087476  [64064/100000]\n",
            "loss: 0.034155  [70464/100000]\n",
            "loss: 0.051317  [76864/100000]\n",
            "loss: 0.139361  [83264/100000]\n",
            "loss: 0.162726  [89664/100000]\n",
            "loss: 0.079858  [96064/100000]\n",
            "Test performance: \n",
            " R^2: 0.992894, RMSE: 0.148745 \n",
            "\n",
            "Epoch 12\n",
            "-------------------------------\n",
            "loss: 0.156294  [   64/100000]\n",
            "loss: 0.093481  [ 6464/100000]\n",
            "loss: 0.044689  [12864/100000]\n",
            "loss: 0.069560  [19264/100000]\n",
            "loss: 0.049289  [25664/100000]\n",
            "loss: 0.330965  [32064/100000]\n",
            "loss: 0.060987  [38464/100000]\n",
            "loss: 0.041339  [44864/100000]\n",
            "loss: 0.157445  [51264/100000]\n",
            "loss: 0.097227  [57664/100000]\n",
            "loss: 0.154629  [64064/100000]\n",
            "loss: 0.153998  [70464/100000]\n",
            "loss: 0.262758  [76864/100000]\n",
            "loss: 0.049505  [83264/100000]\n",
            "loss: 0.030409  [89664/100000]\n",
            "loss: 0.068076  [96064/100000]\n",
            "Test performance: \n",
            " R^2: 0.992230, RMSE: 0.156348 \n",
            "\n",
            "Epoch 13\n",
            "-------------------------------\n",
            "loss: 0.205353  [   64/100000]\n",
            "loss: 0.252282  [ 6464/100000]\n",
            "loss: 0.046880  [12864/100000]\n",
            "loss: 0.122652  [19264/100000]\n",
            "loss: 0.040483  [25664/100000]\n",
            "loss: 0.332348  [32064/100000]\n",
            "loss: 0.209427  [38464/100000]\n",
            "loss: 0.071124  [44864/100000]\n",
            "loss: 0.103392  [51264/100000]\n",
            "loss: 0.065575  [57664/100000]\n",
            "loss: 0.078010  [64064/100000]\n",
            "loss: 0.036993  [70464/100000]\n",
            "loss: 0.177545  [76864/100000]\n",
            "loss: 0.105658  [83264/100000]\n",
            "loss: 0.056419  [89664/100000]\n",
            "loss: 0.047285  [96064/100000]\n",
            "Test performance: \n",
            " R^2: 0.991005, RMSE: 0.164959 \n",
            "\n",
            "Epoch 14\n",
            "-------------------------------\n",
            "loss: 0.142373  [   64/100000]\n",
            "loss: 0.032840  [ 6464/100000]\n",
            "loss: 0.054341  [12864/100000]\n",
            "loss: 0.045234  [19264/100000]\n",
            "loss: 0.072156  [25664/100000]\n",
            "loss: 0.146574  [32064/100000]\n",
            "loss: 0.042619  [38464/100000]\n",
            "loss: 0.093733  [44864/100000]\n",
            "loss: 0.126631  [51264/100000]\n",
            "loss: 0.174638  [57664/100000]\n",
            "loss: 0.021763  [64064/100000]\n",
            "loss: 0.069974  [70464/100000]\n",
            "loss: 0.037952  [76864/100000]\n",
            "loss: 0.215359  [83264/100000]\n",
            "loss: 0.056612  [89664/100000]\n",
            "loss: 0.086736  [96064/100000]\n",
            "Test performance: \n",
            " R^2: 0.991522, RMSE: 0.160480 \n",
            "\n",
            "Done!\n"
          ]
        }
      ],
      "source": [
        "# new we'll train the model\n",
        "early_stopper = EarlyStopper(patience=3, min_delta=0)\n",
        "loss = nn.MSELoss()\n",
        "optimizer = torch.optim.Adam(model5.parameters(),lr=.0001) # we're trying a different optimizer here too (ADAM)\n",
        "epochs = 100 # this is just an upperbound - the actual epoch # is determined by early stopping\n",
        "for t in range(epochs):\n",
        "    print(f\"Epoch {t+1}\\n-------------------------------\")\n",
        "    train(train_dataloader, model5, loss, optimizer)\n",
        "    val_loss = test(val_dataloader, model5, loss)[1]\n",
        "    if early_stopper.early_stop(val_loss):\n",
        "        break\n",
        "print(\"Done!\")"
      ]
    },
    {
      "cell_type": "code",
      "execution_count": 37,
      "metadata": {
        "colab": {
          "base_uri": "https://localhost:8080/"
        },
        "id": "HmLpYXOM7hE3",
        "outputId": "fc328f48-8d08-497b-c62b-68dca64a18b3"
      },
      "outputs": [
        {
          "output_type": "stream",
          "name": "stdout",
          "text": [
            "Test performance: \n",
            " R^2: 0.992059, RMSE: 0.155234 \n",
            "\n"
          ]
        }
      ],
      "source": [
        "# performance metrics\n",
        "perf = test(test_dataloader, model5, loss)"
      ]
    },
    {
      "cell_type": "code",
      "execution_count": 38,
      "metadata": {
        "colab": {
          "base_uri": "https://localhost:8080/",
          "height": 449
        },
        "id": "U5YH-_8pM5v9",
        "outputId": "7d1f8b7b-ded8-47f9-d453-22291239b8eb"
      },
      "outputs": [
        {
          "output_type": "display_data",
          "data": {
            "text/plain": [
              "<Figure size 640x480 with 1 Axes>"
            ],
            "image/png": "[encoded data removed]"
          },
          "metadata": {}
        }
      ],
      "source": [
        "# plotting actual values vs. predictions\n",
        "ypred = model5(torch.from_numpy(np.float32(x_test)).to(device)).cpu().detach().numpy()\n",
        "plt.scatter(ypred,y_non_test,s=.1)\n",
        "plt.xlabel(\"Predictions\");\n",
        "plt.ylabel(\"Actual values\");"
      ]
    },
    {
      "cell_type": "markdown",
      "source": [
        "The bells and whistles buy us only a little bit of extra performance here, but this is a very simple case. In more complex, multivariate situations, these features can have a major effect on model performance."
      ],
      "metadata": {
        "id": "AJEp4isLZdH1"
      }
    },
    {
      "cell_type": "markdown",
      "source": [
        "## Next steps\n",
        "This tutorial has provided a basic example of how one can create one's own artificial neural network using pytorch. However, there's a lot more that you can do with deep nets beyond what's been shown here. This final section will point you to some directions for further learning that you may be interested in."
      ],
      "metadata": {
        "id": "gHElnK1saJmr"
      }
    },
    {
      "cell_type": "markdown",
      "source": [
        "### Other layer connectivity patterns\n",
        "The layers in the networks you've seen here are all \"densely\" connected. This means that every unit in one layer is connected to every unit in another layer. Most of the connections are also sequential, with the exception of the skip layer connection in the last model. However, there are a wide variety of other connectivity patterns that can perform better for particular applications. Several of these patterns are illustrated in the figure below.\n",
        "\n",
        "![](https://mysocialbrain.org/misc/data/ann_tutorial/Fig1_DS_hires_bottom.png)\n",
        "\n",
        "* The bottleneck (red) in the autoencoder illustration is a layer that is narrower (i.e., has fewer units) than the ones before or after it. This forces this layer to learn a compressed representation of the data - a bit like PCA, but nonlinear, not (necessarily) orthogonal, and with potentially different loss functions than maximizing variance explained.\n",
        "\n",
        "* Convolutional networks are ubiquitous due to their effectiveness in dealing with image-like data (e.g., photos, video, fMRI, or even spectrograms of audio or electrophysiology). The connectivity pattern - and receptive fields that emerge - loosely approximate the human visual system.\n",
        "\n",
        "* Recurrent connectivity carries a unit's activity forward from one time point to another. Long short-term memory (LSTM) networks are probably the best known example of this type. These models are most often used for time series and other sequential data.\n",
        "\n",
        "* Perhaps the most important type of unit/connectivity (not pictured due to its complexity) is the attention mechanism of transformer architectures. Transformers are beyond the scope of this introduction, but they support many of the most influential ANNs as of time of writing (e.g., all  the major large language models like GPT)."
      ],
      "metadata": {
        "id": "1I8406rj4Y_u"
      }
    },
    {
      "cell_type": "markdown",
      "source": [
        "### Applications\n",
        "One way to organize your learning is to think about how you want to apply deep nets in your own research. The figure below illustrates some of the main uses cases that you might be interested in. These include (A) training statistical biomarkers to predict phenotypes from brain data, (B) using computer vision/audition models to annotate behavior in stimuli/recordings of participants, and (C) training models on the same tasks as participants, so that they can be used as cognitive models. Once you know which of these applications you want to use in your research, it can help you figure out where to go next. ![](https://mysocialbrain.org/misc/data/ann_tutorial/Fig2_DS.png)\n"
      ],
      "metadata": {
        "id": "EgeJxcpq2trZ"
      }
    },
    {
      "cell_type": "markdown",
      "source": [
        "### Learning resources\n",
        "\n",
        "Tutorial material:\n",
        "* [Pytorch's official tutorials](https://pytorch.org/tutorials/)\n",
        "\n",
        "* [Tensorflow's official tutorials](https://www.tensorflow.org/tutorials)\n",
        "\n",
        "Websites:\n",
        "\n",
        "* If you're looking to find the best (pre-trained) model for a specific application, [Paper's with Code](https://paperswithcode.com/) is in an extremely useful source. It tracks the state of the art with respect to a huge number of machine learning benchmarks, with links their papers and github repos.\n",
        "\n",
        "* [Hugging Face](https://huggingface.co/) is a model repository where an increasing number of popular pretrained models are uploaded. It provides a consistent API for installing, using, and documenting models, most of which are programmed in PyTorch and/or Tensorflow.\n",
        "\n",
        "* [DeepMind Blog](https://www.deepmind.com/blog): Google DeepMind maintains a blog where they write about their papers in (relatively) accessible ways.\n",
        "\n",
        "Videos:\n",
        "\n",
        "* Neuromatch's video playlists on [deep learning](https://www.youtube.com/watch?v=IZvcy0Myb3M&list=PLkBQOLLbi18PZ2uw0p7G4EkzjzqP8l0Eg), and [autoencoders](https://www.youtube.com/watch?v=VwSnDJZekQ4&list=PLkBQOLLbi18Ojl1CV8W00JZ0C0hivBxw1),  \n",
        "\n",
        "* [NYU deep learning course](https://www.youtube.com/watch?v=0bMe_vCZo30&list=PLLHTzKZzVU9eaEyErdV26ikyolxOsz6mq).\n",
        "\n",
        "* Berkeley [Deep Reinforcement Learning Bootcamp](https://sites.google.com/view/deep-rl-bootcamp/lectures)\n",
        "\n",
        "* [Two minute papers](https://www.youtube.com/@TwoMinutePapers) Short, easily digested videos on recent modeling\n",
        "\n",
        "Many of my favorite scientific papers on deep learning are cited within these two papers:\n",
        "\n",
        "* Thornton, M.A., & Sievers, B. (2023). Deep social neuroscience: The promise and peril of using artificial neural networks to study the social brain. <i>PsyArXiv.</i> [Preprint](https://psyarxiv.com/fr4cb)\n",
        "\n",
        "* Lin, C., Bulls, L. S., Tepfer, L. J., Vyas, A., Thornton, M. A., (2023).\n",
        "Advancing naturalistic affective science with deep learning. <i>Affective Science.</i> [Preprint](https://psyarxiv.com/j5q9h/)"
      ],
      "metadata": {
        "id": "6A7FDhq9lLHw"
      }
    },
    {
      "cell_type": "code",
      "source": [
        "import keras\n",
        "import tensorflow"
      ],
      "metadata": {
        "id": "mm2w7U1jAPkm"
      },
      "execution_count": 39,
      "outputs": []
    },
    {
      "cell_type": "code",
      "source": [
        "from keras.models import Sequential\n",
        "from keras.layers import Dense\n",
        "from keras.optimizers import Adam"
      ],
      "metadata": {
        "id": "OFJ77LElBL2Y"
      },
      "execution_count": 40,
      "outputs": []
    },
    {
      "cell_type": "code",
      "source": [
        "import numpy as np\n",
        "import matplotlib.pyplot as plt\n"
      ],
      "metadata": {
        "id": "45yIB7fbDYiq"
      },
      "execution_count": 41,
      "outputs": []
    },
    {
      "cell_type": "code",
      "source": [
        "x=np.array([1,2,3,4,5,6,7,8])\n",
        "y=np.array([8,7,6,5,4,3,2,1])\n",
        "plt.scatter(x,y)\n",
        "plt.show()"
      ],
      "metadata": {
        "id": "Swl70rZADgox",
        "outputId": "875a5d01-6b1d-4c70-b6e4-d941db8b0931",
        "colab": {
          "base_uri": "https://localhost:8080/",
          "height": 430
        }
      },
      "execution_count": 43,
      "outputs": [
        {
          "output_type": "display_data",
          "data": {
            "text/plain": [
              "<Figure size 640x480 with 1 Axes>"
            ],
            "image/png": "[encoded data removed]"
          },
          "metadata": {}
        }
      ]
    },
    {
      "cell_type": "code",
      "source": [
        "model=Sequential()\n",
        "model.add(Dense(1,input_dim=1,activation='linear'))\n",
        "model.add(Dense(1,activation='linear'))\n",
        "model.compile(Adam(learning_rate=0.01),loss='mse')"
      ],
      "metadata": {
        "id": "PDJYEkYmEAdb",
        "outputId": "fe654742-9011-41ed-d8b6-90cba2bbd66c",
        "colab": {
          "base_uri": "https://localhost:8080/"
        }
      },
      "execution_count": 44,
      "outputs": [
        {
          "output_type": "stream",
          "name": "stderr",
          "text": [
            "/usr/local/lib/python3.11/dist-packages/keras/src/layers/core/dense.py:87: UserWarning: Do not pass an `input_shape`/`input_dim` argument to a layer. When using Sequential models, prefer using an `Input(shape)` object as the first layer in the model instead.\n",
            "  super().__init__(activity_regularizer=activity_regularizer, **kwargs)\n"
          ]
        }
      ]
    },
    {
      "cell_type": "code",
      "source": [
        "model.fit(x,y,epochs=20,verbose=1)"
      ],
      "metadata": {
        "id": "MT-1kDFUFipS",
        "outputId": "f8f94000-c98e-4b71-a13f-2be12a5615f5",
        "colab": {
          "base_uri": "https://localhost:8080/"
        }
      },
      "execution_count": 45,
      "outputs": [
        {
          "output_type": "stream",
          "name": "stdout",
          "text": [
            "Epoch 1/20\n",
            "\u001b[1m1/1\u001b[0m \u001b[32m━━━━━━━━━━━━━━━━━━━━\u001b[0m\u001b[37m\u001b[0m \u001b[1m1s\u001b[0m 1s/step - loss: 23.3223\n",
            "Epoch 2/20\n",
            "\u001b[1m1/1\u001b[0m \u001b[32m━━━━━━━━━━━━━━━━━━━━\u001b[0m\u001b[37m\u001b[0m \u001b[1m0s\u001b[0m 48ms/step - loss: 22.7680\n",
            "Epoch 3/20\n",
            "\u001b[1m1/1\u001b[0m \u001b[32m━━━━━━━━━━━━━━━━━━━━\u001b[0m\u001b[37m\u001b[0m \u001b[1m0s\u001b[0m 59ms/step - loss: 22.2505\n",
            "Epoch 4/20\n",
            "\u001b[1m1/1\u001b[0m \u001b[32m━━━━━━━━━━━━━━━━━━━━\u001b[0m\u001b[37m\u001b[0m \u001b[1m0s\u001b[0m 59ms/step - loss: 21.7691\n",
            "Epoch 5/20\n",
            "\u001b[1m1/1\u001b[0m \u001b[32m━━━━━━━━━━━━━━━━━━━━\u001b[0m\u001b[37m\u001b[0m \u001b[1m0s\u001b[0m 64ms/step - loss: 21.3228\n",
            "Epoch 6/20\n",
            "\u001b[1m1/1\u001b[0m \u001b[32m━━━━━━━━━━━━━━━━━━━━\u001b[0m\u001b[37m\u001b[0m \u001b[1m0s\u001b[0m 48ms/step - loss: 20.9100\n",
            "Epoch 7/20\n",
            "\u001b[1m1/1\u001b[0m \u001b[32m━━━━━━━━━━━━━━━━━━━━\u001b[0m\u001b[37m\u001b[0m \u001b[1m0s\u001b[0m 49ms/step - loss: 20.5278\n",
            "Epoch 8/20\n",
            "\u001b[1m1/1\u001b[0m \u001b[32m━━━━━━━━━━━━━━━━━━━━\u001b[0m\u001b[37m\u001b[0m \u001b[1m0s\u001b[0m 60ms/step - loss: 20.1730\n",
            "Epoch 9/20\n",
            "\u001b[1m1/1\u001b[0m \u001b[32m━━━━━━━━━━━━━━━━━━━━\u001b[0m\u001b[37m\u001b[0m \u001b[1m0s\u001b[0m 48ms/step - loss: 19.8422\n",
            "Epoch 10/20\n",
            "\u001b[1m1/1\u001b[0m \u001b[32m━━━━━━━━━━━━━━━━━━━━\u001b[0m\u001b[37m\u001b[0m \u001b[1m0s\u001b[0m 78ms/step - loss: 19.5325\n",
            "Epoch 11/20\n",
            "\u001b[1m1/1\u001b[0m \u001b[32m━━━━━━━━━━━━━━━━━━━━\u001b[0m\u001b[37m\u001b[0m \u001b[1m0s\u001b[0m 46ms/step - loss: 19.2421\n",
            "Epoch 12/20\n",
            "\u001b[1m1/1\u001b[0m \u001b[32m━━━━━━━━━━━━━━━━━━━━\u001b[0m\u001b[37m\u001b[0m \u001b[1m0s\u001b[0m 60ms/step - loss: 18.9693\n",
            "Epoch 13/20\n",
            "\u001b[1m1/1\u001b[0m \u001b[32m━━━━━━━━━━━━━━━━━━━━\u001b[0m\u001b[37m\u001b[0m \u001b[1m0s\u001b[0m 49ms/step - loss: 18.7131\n",
            "Epoch 14/20\n",
            "\u001b[1m1/1\u001b[0m \u001b[32m━━━━━━━━━━━━━━━━━━━━\u001b[0m\u001b[37m\u001b[0m \u001b[1m0s\u001b[0m 61ms/step - loss: 18.4725\n",
            "Epoch 15/20\n",
            "\u001b[1m1/1\u001b[0m \u001b[32m━━━━━━━━━━━━━━━━━━━━\u001b[0m\u001b[37m\u001b[0m \u001b[1m0s\u001b[0m 58ms/step - loss: 18.2465\n",
            "Epoch 16/20\n",
            "\u001b[1m1/1\u001b[0m \u001b[32m━━━━━━━━━━━━━━━━━━━━\u001b[0m\u001b[37m\u001b[0m \u001b[1m0s\u001b[0m 52ms/step - loss: 18.0342\n",
            "Epoch 17/20\n",
            "\u001b[1m1/1\u001b[0m \u001b[32m━━━━━━━━━━━━━━━━━━━━\u001b[0m\u001b[37m\u001b[0m \u001b[1m0s\u001b[0m 54ms/step - loss: 17.8347\n",
            "Epoch 18/20\n",
            "\u001b[1m1/1\u001b[0m \u001b[32m━━━━━━━━━━━━━━━━━━━━\u001b[0m\u001b[37m\u001b[0m \u001b[1m0s\u001b[0m 54ms/step - loss: 17.6474\n",
            "Epoch 19/20\n",
            "\u001b[1m1/1\u001b[0m \u001b[32m━━━━━━━━━━━━━━━━━━━━\u001b[0m\u001b[37m\u001b[0m \u001b[1m0s\u001b[0m 56ms/step - loss: 17.4712\n",
            "Epoch 20/20\n",
            "\u001b[1m1/1\u001b[0m \u001b[32m━━━━━━━━━━━━━━━━━━━━\u001b[0m\u001b[37m\u001b[0m \u001b[1m0s\u001b[0m 62ms/step - loss: 17.3054\n"
          ]
        },
        {
          "output_type": "execute_result",
          "data": {
            "text/plain": [
              "<keras.src.callbacks.history.History at 0x7edca0df6650>"
            ]
          },
          "metadata": {},
          "execution_count": 45
        }
      ]
    },
    {
      "cell_type": "code",
      "source": [
        "model.predict(x)"
      ],
      "metadata": {
        "id": "qGNLUI91HBTd",
        "outputId": "c53ffc0b-9ad3-428d-efc3-852821890a4f",
        "colab": {
          "base_uri": "https://localhost:8080/"
        }
      },
      "execution_count": 46,
      "outputs": [
        {
          "output_type": "stream",
          "name": "stdout",
          "text": [
            "\u001b[1m1/1\u001b[0m \u001b[32m━━━━━━━━━━━━━━━━━━━━\u001b[0m\u001b[37m\u001b[0m \u001b[1m0s\u001b[0m 103ms/step\n"
          ]
        },
        {
          "output_type": "execute_result",
          "data": {
            "text/plain": [
              "array([[0.8104663],\n",
              "       [1.5547386],\n",
              "       [2.2990112],\n",
              "       [3.043284 ],\n",
              "       [3.7875566],\n",
              "       [4.5318284],\n",
              "       [5.276101 ],\n",
              "       [6.0203733]], dtype=float32)"
            ]
          },
          "metadata": {},
          "execution_count": 46
        }
      ]
    },
    {
      "cell_type": "code",
      "source": [
        "import numpy as np\n",
        "import pandas as pd\n",
        "import matplotlib.pyplot as plt\n",
        "import seaborn as sns\n"
      ],
      "metadata": {
        "id": "WGdifq6JHfuk"
      },
      "execution_count": 47,
      "outputs": []
    },
    {
      "cell_type": "code",
      "source": [],
      "metadata": {
        "id": "iPyn1GbAIYX8"
      },
      "execution_count": null,
      "outputs": []
    }
  ],
  "metadata": {
    "accelerator": "GPU",
    "colab": {
      "provenance": []
    },
    "kernelspec": {
      "display_name": "Python 3",
      "name": "python3"
    },
    "language_info": {
      "name": "python"
    }
  },
  "nbformat": 4,
  "nbformat_minor": 0
}